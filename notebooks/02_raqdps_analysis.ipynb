{
 "cells": [
  {
   "cell_type": "markdown",
   "metadata": {},
   "source": [
    "# Analyse des données RAQDPS\n\n",
    "Ce notebook analyse les champs de dépôt RAQDPS et leur relation avec les glaciers."
   ]
  },
  {
   "cell_type": "code",
   "execution_count": null,
   "metadata": {},
   "outputs": [],
   "source": [
    "import sys\n",
    "sys.path.append('..')\n\n",
    "import numpy as np\n",
    "import pandas as pd\n",
    "import matplotlib.pyplot as plt\n",
    "import xarray as xr\n",
    "import geopandas as gpd\n",
    "from datetime import datetime, timedelta\n",
    "from pathlib import Path\n\n",
    "# Import des modules du projet\n",
    "from src.raqdps_glacier_coupling import RAQDPSGlacierAnalysis\n",
    "from src.utils.data_loaders import load_raqdps_data\n",
    "from src.utils.visualization import plot_time_series\n\n",
    "%matplotlib inline\n",
    "plt.style.use('seaborn-v0_8')"
   ]
  },
  {
   "cell_type": "markdown",
   "metadata": {},
   "source": [
    "## 1. Chargement d'une période de données RAQDPS"
   ]
  },
  {
   "cell_type": "code",
   "execution_count": null,
   "metadata": {},
   "outputs": [],
   "source": [
    "# Définir la période d'analyse\n",
    "start_date = datetime(2023, 7, 15, 0)\n",
    "end_date = datetime(2023, 7, 16, 23)\n\n",
    "# Chemins\n",
    "raqdps_path = Path('../data/raqdps/')\n\n",
    "# Variables à analyser\n",
    "variables = ['BC_dep', 'PM2.5_dep', 'PM10_dep']\n\n",
    "print(f\"Période: {start_date} à {end_date}\")"
   ]
  },
  {
   "cell_type": "code",
   "execution_count": null,
   "metadata": {},
   "outputs": [],
   "source": [
    "# Charger les données (si disponibles)\n",
    "try:\n",
    "    ds = load_raqdps_data(\n",
    "        raqdps_path,\n",
    "        start_date,\n",
    "        end_date,\n",
    "        variables=variables,\n",
    "        bbox=(-130, 48, -110, 60)  # Ouest canadien\n",
    "    )\n",
    "    print(\"Données chargées avec succès!\")\n",
    "    print(f\"Dimensions: {ds.dims}\")\n",
    "    print(f\"Variables: {list(ds.data_vars)}\")\n",
    "except Exception as e:\n",
    "    print(f\"Erreur lors du chargement: {e}\")\n",
    "    print(\"Création de données synthétiques pour la démonstration...\")\n",
    "    \n",
    "    # Données synthétiques\n",
    "    times = pd.date_range(start_date, end_date, freq='H')\n",
    "    lats = np.linspace(48, 60, 50)\n",
    "    lons = np.linspace(-130, -110, 60)\n",
    "    \n",
    "    # Créer des champs synthétiques\n",
    "    bc_dep = np.random.exponential(1e-10, (len(times), len(lats), len(lons)))\n",
    "    pm25_dep = np.random.exponential(2e-10, (len(times), len(lats), len(lons)))\n",
    "    \n",
    "    ds = xr.Dataset({\n",
    "        'BC_dep': (['time', 'lat', 'lon'], bc_dep),\n",
    "        'PM2.5_dep': (['time', 'lat', 'lon'], pm25_dep)\n",
    "    },\n",
    "    coords={\n",
    "        'time': times,\n",
    "        'lat': lats,\n",
    "        'lon': lons\n",
    "    })"
   ]
  },
  {
   "cell_type": "markdown",
   "metadata": {},
   "source": [
    "## 2. Analyse spatiale des dépôts"
   ]
  },
  {
   "cell_type": "code",
   "execution_count": null,
   "metadata": {},
   "outputs": [],
   "source": [
    "# Moyennes temporelles\n",
    "bc_mean = ds['BC_dep'].mean(dim='time')\n",
    "pm25_mean = ds['PM2.5_dep'].mean(dim='time')\n\n",
    "# Visualisation\n",
    "fig, axes = plt.subplots(1, 2, figsize=(14, 5))\n\n",
    "# BC\n",
    "im1 = bc_mean.plot(ax=axes[0], cmap='YlOrRd', \n",
    "                   cbar_kwargs={'label': 'Dépôt BC (kg/m²/s)'})\n",
    "axes[0].set_title('Dépôt moyen de carbone noir')\n\n",
    "# PM2.5\n",
    "im2 = pm25_mean.plot(ax=axes[1], cmap='YlOrBr',\n",
    "                     cbar_kwargs={'label': 'Dépôt PM2.5 (kg/m²/s)'})\n",
    "axes[1].set_title('Dépôt moyen de PM2.5')\n\n",
    "plt.tight_layout()"
   ]
  },
  {
   "cell_type": "markdown",
   "metadata": {},
   "source": [
    "## 3. Extraction pour des glaciers spécifiques"
   ]
  },
  {
   "cell_type": "code",
   "execution_count": null,
   "metadata": {},
   "outputs": [],
   "source": [
    "# Positions de glaciers d'intérêt\n",
    "glaciers_of_interest = [\n",
    "    {'name': 'Athabasca', 'lat': 52.185, 'lon': -117.252},\n",
    "    {'name': 'Saskatchewan', 'lat': 52.150, 'lon': -117.186},\n",
    "    {'name': 'Columbia', 'lat': 52.171, 'lon': -117.329},\n",
    "    {'name': 'Peyto', 'lat': 51.670, 'lon': -116.533}\n",
    "]\n\n",
    "# Extraire les séries temporelles\n",
    "glacier_series = {}\n\n",
    "for glacier in glaciers_of_interest:\n",
    "    # Sélectionner le point le plus proche\n",
    "    point_data = ds.sel(\n",
    "        lat=glacier['lat'],\n",
    "        lon=glacier['lon'],\n",
    "        method='nearest'\n",
    "    )\n",
    "    \n",
    "    glacier_series[glacier['name']] = {\n",
    "        'BC_dep': point_data['BC_dep'].values,\n",
    "        'PM2.5_dep': point_data['PM2.5_dep'].values,\n",
    "        'time': point_data.time.values\n",
    "    }"
   ]
  },
  {
   "cell_type": "code",
   "execution_count": null,
   "metadata": {},
   "outputs": [],
   "source": [
    "# Comparer les séries temporelles\n",
    "fig, axes = plt.subplots(2, 1, figsize=(12, 8), sharex=True)\n\n",
    "for glacier_name, data in glacier_series.items():\n",
    "    # BC\n",
    "    axes[0].plot(data['time'], data['BC_dep'], \n",
    "                label=glacier_name, linewidth=2)\n",
    "    \n",
    "    # PM2.5\n",
    "    axes[1].plot(data['time'], data['PM2.5_dep'], \n",
    "                label=glacier_name, linewidth=2)\n\n",
    "axes[0].set_ylabel('Dépôt BC (kg/m²/s)')\n",
    "axes[0].legend()\n",
    "axes[0].grid(True, alpha=0.3)\n\n",
    "axes[1].set_ylabel('Dépôt PM2.5 (kg/m²/s)')\n",
    "axes[1].set_xlabel('Temps')\n",
    "axes[1].legend()\n",
    "axes[1].grid(True, alpha=0.3)\n\n",
    "plt.suptitle('Comparaison des dépôts sur différents glaciers')\n",
    "plt.tight_layout()"
   ]
  },
  {
   "cell_type": "markdown",
   "metadata": {},
   "source": [
    "## 4. Analyse des conditions météorologiques"
   ]
  },
  {
   "cell_type": "code",
   "execution_count": null,
   "metadata": {},
   "outputs": [],
   "source": [
    "# Ajouter des variables météo synthétiques\n",
    "ds['u_10m'] = xr.DataArray(\n",
    "    np.random.normal(5, 2, ds['BC_dep'].shape),\n",
    "    dims=['time', 'lat', 'lon'],\n",
    "    coords=ds.coords\n",
    ")\n\n",
    "ds['v_10m'] = xr.DataArray(\n",
    "    np.random.normal(2, 1, ds['BC_dep'].shape),\n",
    "    dims=['time', 'lat', 'lon'],\n",
    "    coords=ds.coords\n",
    ")\n\n",
    "# Calculer la vitesse et direction du vent\n",
    "wind_speed = np.sqrt(ds['u_10m']**2 + ds['v_10m']**2)\n",
    "wind_dir = np.arctan2(ds['v_10m'], ds['u_10m']) * 180 / np.pi"
   ]
  },
  {
   "cell_type": "code",
   "execution_count": null,
   "metadata": {},
   "outputs": [],
   "source": [
    "# Analyser la relation vent-dépôt pour Athabasca\n",
    "athabasca_wind = wind_speed.sel(\n",
    "    lat=52.185, \n",
    "    lon=-117.252, \n",
    "    method='nearest'\n",
    ")\n\n",
    "athabasca_bc = ds['BC_dep'].sel(\n",
    "    lat=52.185, \n",
    "    lon=-117.252, \n",
    "    method='nearest'\n",
    ")\n\n",
    "# Scatter plot\n",
    "plt.figure(figsize=(8, 6))\n",
    "plt.scatter(athabasca_wind, athabasca_bc, alpha=0.6)\n",
    "plt.xlabel('Vitesse du vent (m/s)')\n",
    "plt.ylabel('Dépôt BC (kg/m²/s)')\n",
    "plt.title('Relation vent-dépôt au glacier Athabasca')\n",
    "plt.grid(True, alpha=0.3)\n\n",
    "# Ajouter une ligne de tendance\n",
    "z = np.polyfit(athabasca_wind, athabasca_bc, 1)\n",
    "p = np.poly1d(z)\n",
    "plt.plot(sorted(athabasca_wind.values), \n",
    "         p(sorted(athabasca_wind.values)), \n",
    "         'r--', linewidth=2)"
   ]
  },
  {
   "cell_type": "markdown",
   "metadata": {},
   "source": [
    "## 5. Calcul des dépôts cumulatifs"
   ]
  },
  {
   "cell_type": "code",
   "execution_count": null,
   "metadata": {},
   "outputs": [],
   "source": [
    "# Convertir en DataFrame pour faciliter les calculs\n",
    "athabasca_df = pd.DataFrame({\n",
    "    'time': ds.time.values,\n",
    "    'BC_dep': athabasca_bc.values,\n",
    "    'PM25_dep': ds['PM2.5_dep'].sel(\n",
    "        lat=52.185, lon=-117.252, method='nearest'\n",
    "    ).values\n",
    "})\n",
    "athabasca_df.set_index('time', inplace=True)\n\n",
    "# Calculer les cumulatifs\n",
    "# Conversion approximative: 1 heure de dépôt\n",
    "athabasca_df['BC_hourly'] = athabasca_df['BC_dep'] * 3600\n",
    "athabasca_df['BC_cumul'] = athabasca_df['BC_hourly'].cumsum()\n",
    "athabasca_df['BC_24h'] = athabasca_df['BC_hourly'].rolling('24H').sum()\n\n",
    "print(\"Dépôts cumulatifs calculés\")"
   ]
  },
  {
   "cell_type": "code",
   "execution_count": null,
   "metadata": {},
   "outputs": [],
   "source": [
    "# Visualiser les cumulatifs\n",
    "fig, axes = plt.subplots(2, 1, figsize=(12, 8))\n\n",
    "# Dépôt horaire\n",
    "axes[0].plot(athabasca_df.index, athabasca_df['BC_hourly'], \n",
    "            'k-', alpha=0.5, label='Horaire')\n",
    "axes[0].plot(athabasca_df.index, athabasca_df['BC_24h'], \n",
    "            'k-', linewidth=2, label='Moyenne 24h')\n",
    "axes[0].set_ylabel('Dépôt BC (kg/m²/h)')\n",
    "axes[0].legend()\n",
    "axes[0].grid(True, alpha=0.3)\n\n",
    "# Cumulatif\n",
    "axes[1].plot(athabasca_df.index, athabasca_df['BC_cumul'], \n",
    "            'r-', linewidth=2)\n",
    "axes[1].set_ylabel('Dépôt BC cumulatif (kg/m²)')\n",
    "axes[1].set_xlabel('Temps')\n",
    "axes[1].grid(True, alpha=0.3)\n\n",
    "plt.suptitle('Dépôts de carbone noir - Glacier Athabasca')\n",
    "plt.tight_layout()"
   ]
  },
  {
   "cell_type": "markdown",
   "metadata": {},
   "source": [
    "## 6. Export des résultats"
   ]
  },
  {
   "cell_type": "code",
   "execution_count": null,
   "metadata": {},
   "outputs": [],
   "source": [
    "# Sauvegarder les séries temporelles\n",
    "output_dir = Path('../results/raqdps_analysis/')\n",
    "output_dir.mkdir(parents=True, exist_ok=True)\n\n",
    "# Sauvegarder le DataFrame Athabasca\n",
    "athabasca_df.to_csv(output_dir / 'athabasca_deposition_series.csv')\n\n",
    "# Sauvegarder les statistiques\n",
    "stats = {\n",
    "    'glacier': 'Athabasca',\n",
    "    'period': f\"{start_date} to {end_date}\",\n",
    "    'BC_total_kg_m2': athabasca_df['BC_cumul'].iloc[-1],\n",
    "    'BC_max_hourly': athabasca_df['BC_hourly'].max(),\n",
    "    'BC_mean_hourly': athabasca_df['BC_hourly'].mean(),\n",
    "    'n_hours': len(athabasca_df)\n",
    "}\n\n",
    "stats_df = pd.DataFrame([stats])\n",
    "stats_df.to_csv(output_dir / 'deposition_statistics.csv', index=False)\n\n",
    "print(\"Résultats sauvegardés dans:\", output_dir)"
   ]
  }
 ],
 "metadata": {
  "kernelspec": {
   "display_name": "Python 3",
   "language": "python",
   "name": "python3"
  },
  "language_info": {
   "codemirror_mode": {
    "name": "ipython",
    "version": 3
   },
   "file_extension": ".py",
   "mimetype": "text/x-python",
   "name": "python",
   "nbconvert_exporter": "python",
   "pygments_lexer": "ipython3",
   "version": "3.9.0"
  }
 },
 "nbformat": 4,
 "nbformat_minor": 4
}