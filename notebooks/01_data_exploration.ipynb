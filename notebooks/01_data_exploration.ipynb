{
 "cells": [
  {
   "cell_type": "markdown",
   "metadata": {},
   "source": [
    "# Exploration des données\n\n",
    "Ce notebook explore les différentes sources de données pour le projet d'analyse de l'impact des feux sur l'albédo des glaciers."
   ]
  },
  {
   "cell_type": "code",
   "execution_count": null,
   "metadata": {},
   "outputs": [],
   "source": [
    "# Imports de base\n",
    "import numpy as np\n",
    "import pandas as pd\n",
    "import matplotlib.pyplot as plt\n",
    "import xarray as xr\n",
    "import geopandas as gpd\n",
    "from pathlib import Path\n",
    "import warnings\n",
    "warnings.filterwarnings('ignore')\n\n",
    "# Configuration\n",
    "%matplotlib inline\n",
    "plt.style.use('seaborn-v0_8')\n",
    "plt.rcParams['figure.figsize'] = (12, 8)"
   ]
  },
  {
   "cell_type": "markdown",
   "metadata": {},
   "source": [
    "## 1. Exploration des données RGI"
   ]
  },
  {
   "cell_type": "code",
   "execution_count": null,
   "metadata": {},
   "outputs": [],
   "source": [
    "# Charger les glaciers RGI\n",
    "rgi_path = Path('../data/rgi/RGI60-02.shp')\n",
    "\n",
    "if rgi_path.exists():\n",
    "    glaciers = gpd.read_file(rgi_path)\n",
    "    print(f\"Nombre total de glaciers: {len(glaciers)}\")\n",
    "    print(f\"Colonnes disponibles: {list(glaciers.columns)}\")\n",
    "    \n",
    "    # Filtrer pour l'ouest canadien\n",
    "    canada_glaciers = glaciers[glaciers['CenLon'] < -115]\n",
    "    print(f\"\\nGlaciers ouest canadien: {len(canada_glaciers)}\")\n",
    "    \n",
    "    # Statistiques\n",
    "    print(\"\\nStatistiques des surfaces:\")\n",
    "    print(canada_glaciers['Area'].describe())\n",
    "else:\n",
    "    print(\"Fichier RGI non trouvé. Exécuter d'abord scripts/download_data.sh\")"
   ]
  },
  {
   "cell_type": "code",
   "execution_count": null,
   "metadata": {},
   "outputs": [],
   "source": [
    "# Visualiser la distribution spatiale\n",
    "if 'canada_glaciers' in locals():\n",
    "    fig, ax = plt.subplots(figsize=(10, 8))\n",
    "    \n",
    "    # Carte de base\n",
    "    canada_glaciers.plot(column='Area', \n",
    "                        cmap='Blues',\n",
    "                        legend=True,\n",
    "                        ax=ax)\n",
    "    \n",
    "    ax.set_xlabel('Longitude')\n",
    "    ax.set_ylabel('Latitude')\n",
    "    ax.set_title('Distribution des glaciers RGI - Ouest Canadien')\n",
    "    plt.tight_layout()"
   ]
  },
  {
   "cell_type": "markdown",
   "metadata": {},
   "source": [
    "## 2. Exploration des données RAQDPS (exemple)"
   ]
  },
  {
   "cell_type": "code",
   "execution_count": null,
   "metadata": {},
   "outputs": [],
   "source": [
    "# Exemple de fichier RAQDPS\n",
    "raqdps_example = Path('../data/raqdps/20230715/2023071512_000.nc')\n",
    "\n",
    "if raqdps_example.exists():\n",
    "    ds = xr.open_dataset(raqdps_example)\n",
    "    print(\"Variables disponibles:\")\n",
    "    print(list(ds.data_vars))\n",
    "    \n",
    "    print(\"\\nDimensions:\")\n",
    "    print(ds.dims)\n",
    "    \n",
    "    # Afficher les métadonnées d'une variable\n",
    "    if 'BC_dep' in ds:\n",
    "        print(\"\\nMétadonnées BC_dep:\")\n",
    "        print(ds['BC_dep'])\n",
    "else:\n",
    "    print(\"Fichier RAQDPS exemple non trouvé\")"
   ]
  },
  {
   "cell_type": "code",
   "execution_count": null,
   "metadata": {},
   "outputs": [],
   "source": [
    "# Visualiser le champ de dépôt BC\n",
    "if 'ds' in locals() and 'BC_dep' in ds:\n",
    "    fig, ax = plt.subplots(figsize=(12, 8))\n",
    "    \n",
    "    # Sélectionner la région des glaciers\n",
    "    bc_dep = ds['BC_dep'].sel(\n",
    "        lat=slice(48, 60),\n",
    "        lon=slice(-130, -110)\n",
    "    )\n",
    "    \n",
    "    # Tracer\n",
    "    im = bc_dep.plot(ax=ax, cmap='YlOrRd', \n",
    "                     cbar_kwargs={'label': 'Dépôt BC (kg/m²/s)'})\n",
    "    \n",
    "    ax.set_title('Exemple de champ de dépôt BC - RAQDPS')\n",
    "    plt.tight_layout()"
   ]
  },
  {
   "cell_type": "markdown",
   "metadata": {},
   "source": [
    "## 3. Analyse du glacier Athabasca"
   ]
  },
  {
   "cell_type": "code",
   "execution_count": null,
   "metadata": {},
   "outputs": [],
   "source": [
    "# Localisation du glacier Athabasca\n",
    "athabasca_info = {\n",
    "    'name': 'Athabasca Glacier',\n",
    "    'lat': 52.185,\n",
    "    'lon': -117.252,\n",
    "    'area_km2': 6.0\n",
    "}\n",
    "\n",
    "# Créer un buffer autour du glacier\n",
    "from shapely.geometry import Point\n",
    "athabasca_point = Point(athabasca_info['lon'], athabasca_info['lat'])\n",
    "athabasca_buffer = athabasca_point.buffer(0.1)  # 0.1 degré\n",
    "\n",
    "print(f\"Glacier Athabasca:\")\n",
    "print(f\"  Position: {athabasca_info['lat']}°N, {athabasca_info['lon']}°W\")\n",
    "print(f\"  Surface: {athabasca_info['area_km2']} km²\")"
   ]
  },
  {
   "cell_type": "code",
   "execution_count": null,
   "metadata": {},
   "outputs": [],
   "source": [
    "# Extraire les valeurs RAQDPS pour Athabasca\n",
    "if 'ds' in locals() and 'BC_dep' in ds:\n",
    "    # Sélectionner la région\n",
    "    lat_min, lat_max = 52.1, 52.3\n",
    "    lon_min, lon_max = -117.4, -117.1\n",
    "    \n",
    "    bc_athabasca = ds['BC_dep'].sel(\n",
    "        lat=slice(lat_min, lat_max),\n",
    "        lon=slice(lon_min, lon_max)\n",
    "    )\n",
    "    \n",
    "    # Statistiques\n",
    "    print(f\"Dépôt BC sur la région Athabasca:\")\n",
    "    print(f\"  Moyenne: {float(bc_athabasca.mean()):.2e} kg/m²/s\")\n",
    "    print(f\"  Maximum: {float(bc_athabasca.max()):.2e} kg/m²/s\")\n",
    "    print(f\"  Minimum: {float(bc_athabasca.min()):.2e} kg/m²/s\")"
   ]
  },
  {
   "cell_type": "markdown",
   "metadata": {},
   "source": [
    "## 4. Exploration des données de feux"
   ]
  },
  {
   "cell_type": "code",
   "execution_count": null,
   "metadata": {},
   "outputs": [],
   "source": [
    "# Charger les données de feux MODIS\n",
    "fire_path = Path('../data/fires/MODIS_fires_Canada_2023.csv')\n",
    "\n",
    "if fire_path.exists():\n",
    "    fires = pd.read_csv(fire_path)\n",
    "    print(f\"Nombre total de détections: {len(fires)}\")\n",
    "    print(f\"\\nColonnes: {list(fires.columns)}\")\n",
    "    \n",
    "    # Filtrer pour l'ouest canadien et l'été 2023\n",
    "    fires['acq_date'] = pd.to_datetime(fires['acq_date'])\n",
    "    \n",
    "    summer_fires = fires[\n",
    "        (fires['longitude'] < -110) & \n",
    "        (fires['latitude'] > 48) &\n",
    "        (fires['acq_date'] >= '2023-06-01') &\n",
    "        (fires['acq_date'] <= '2023-09-30')\n",
    "    ]\n",
    "    \n",
    "    print(f\"\\nFeux ouest canadien (été 2023): {len(summer_fires)}\")\n",
    "else:\n",
    "    print(\"Fichier de feux non trouvé\")"
   ]
  },
  {
   "cell_type": "code",
   "execution_count": null,
   "metadata": {},
   "outputs": [],
   "source": [
    "# Visualiser les feux et les glaciers ensemble\n",
    "if 'canada_glaciers' in locals() and 'summer_fires' in locals():\n",
    "    fig, ax = plt.subplots(figsize=(12, 10))\n",
    "    \n",
    "    # Glaciers\n",
    "    canada_glaciers.plot(color='lightblue', \n",
    "                        edgecolor='blue',\n",
    "                        alpha=0.5,\n",
    "                        ax=ax)\n",
    "    \n",
    "    # Feux\n",
    "    ax.scatter(summer_fires['longitude'], \n",
    "              summer_fires['latitude'],\n",
    "              c='red', s=10, alpha=0.5,\n",
    "              label='Feux actifs')\n",
    "    \n",
    "    # Athabasca\n",
    "    ax.scatter(athabasca_info['lon'], \n",
    "              athabasca_info['lat'],\n",
    "              c='green', s=200, marker='*',\n",
    "              label='Glacier Athabasca')\n",
    "    \n",
    "    ax.set_xlabel('Longitude')\n",
    "    ax.set_ylabel('Latitude')\n",
    "    ax.set_title('Glaciers et feux actifs - Ouest Canadien (Été 2023)')\n",
    "    ax.legend()\n",
    "    ax.set_xlim(-130, -110)\n",
    "    ax.set_ylim(48, 60)\n",
    "    plt.tight_layout()"
   ]
  },
  {
   "cell_type": "markdown",
   "metadata": {},
   "source": [
    "## 5. Analyse de proximité"
   ]
  },
  {
   "cell_type": "code",
   "execution_count": null,
   "metadata": {},
   "outputs": [],
   "source": [
    "# Calculer la distance des feux au glacier Athabasca\n",
    "if 'summer_fires' in locals():\n",
    "    from geopy.distance import distance\n",
    "    \n",
    "    # Calculer les distances\n",
    "    distances = []\n",
    "    for idx, fire in summer_fires.iterrows():\n",
    "        fire_loc = (fire['latitude'], fire['longitude'])\n",
    "        athabasca_loc = (athabasca_info['lat'], athabasca_info['lon'])\n",
    "        dist = distance(fire_loc, athabasca_loc).km\n",
    "        distances.append(dist)\n",
    "    \n",
    "    summer_fires['distance_to_athabasca'] = distances\n",
    "    \n",
    "    # Feux proches\n",
    "    nearby_fires = summer_fires[summer_fires['distance_to_athabasca'] < 200]\n",
    "    print(f\"Feux à moins de 200 km d'Athabasca: {len(nearby_fires)}\")\n",
    "    \n",
    "    # Distribution temporelle\n",
    "    plt.figure(figsize=(12, 6))\n",
    "    nearby_fires.groupby(nearby_fires['acq_date'].dt.date).size().plot()\n",
    "    plt.xlabel('Date')\n",
    "    plt.ylabel('Nombre de feux détectés')\n",
    "    plt.title('Feux actifs à moins de 200 km du glacier Athabasca')\n",
    "    plt.xticks(rotation=45)\n",
    "    plt.tight_layout()"
   ]
  }
 ],
 "metadata": {
  "kernelspec": {
   "display_name": "Python 3",
   "language": "python",
   "name": "python3"
  },
  "language_info": {
   "codemirror_mode": {
    "name": "ipython",
    "version": 3
   },
   "file_extension": ".py",
   "mimetype": "text/x-python",
   "name": "python",
   "nbconvert_exporter": "python",
   "pygments_lexer": "ipython3",
   "version": "3.9.0"
  }
 },
 "nbformat": 4,
 "nbformat_minor": 4
}