{
 "cells": [
  {
   "cell_type": "markdown",
   "metadata": {},
   "source": [
    "# Analyse de corrélation Dépôt-Albédo\n\n",
    "Ce notebook analyse la relation entre les dépôts de particules et les changements d'albédo."
   ]
  },
  {
   "cell_type": "code",
   "execution_count": null,
   "metadata": {},
   "outputs": [],
   "source": [
    "import sys\n",
    "sys.path.append('..')\n\n",
    "import numpy as np\n",
    "import pandas as pd\n",
    "import matplotlib.pyplot as plt\n",
    "import seaborn as sns\n",
    "from scipy import stats\n",
    "from datetime import datetime, timedelta\n",
    "from pathlib import Path\n\n",
    "# Import des modules\n",
    "from src.utils.statistics import calculate_correlation, compute_lag_analysis\n",
    "from src.utils.visualization import plot_correlation_matrix\n\n",
    "%matplotlib inline\n",
    "plt.style.use('seaborn-v0_8')"
   ]
  },
  {
   "cell_type": "markdown",
   "metadata": {},
   "source": [
    "## 1. Génération de données synthétiques"
   ]
  },
  {
   "cell_type": "code",
   "execution_count": null,
   "metadata": {},
   "outputs": [],
   "source": [
    "# Simuler des données pour démonstration\n",
    "np.random.seed(42)\n\n",
    "# Période d'étude\n",
    "dates = pd.date_range('2023-07-01', '2023-08-31', freq='D')\n",
    "n_days = len(dates)\n\n",
    "# Simuler les dépôts (avec une tendance et du bruit)\n",
    "trend = np.linspace(0, 1, n_days)\n",
    "seasonal = 0.3 * np.sin(2 * np.pi * np.arange(n_days) / 30)\n",
    "noise = np.random.normal(0, 0.1, n_days)\n\n",
    "bc_deposition = np.abs(trend + seasonal + noise) * 1e-6  # kg/m²\n",
    "pm25_deposition = bc_deposition * 2.5 + np.random.normal(0, 0.5e-6, n_days)\n\n",
    "# Simuler l'albédo (anticorrélé avec le dépôt)\n",
    "base_albedo = 0.8\n",
    "albedo_reduction = -50 * bc_deposition  # Réduction d'albédo\n",
    "albedo_noise = np.random.normal(0, 0.02, n_days)\n",
    "albedo = base_albedo + albedo_reduction + albedo_noise\n",
    "albedo = np.clip(albedo, 0.3, 0.9)  # Limites réalistes\n\n",
    "# Créer le DataFrame\n",
    "df = pd.DataFrame({\n",
    "    'date': dates,\n",
    "    'BC_dep': bc_deposition,\n",
    "    'PM25_dep': pm25_deposition,\n",
    "    'albedo': albedo,\n",
    "    'temperature': np.random.normal(5, 3, n_days),  # °C\n",
    "    'precipitation': np.random.exponential(2, n_days),  # mm\n",
    "    'wind_speed': np.random.gamma(2, 2, n_days)  # m/s\n",
    "})\n",
    "df.set_index('date', inplace=True)\n\n",
    "print(\"Données synthétiques générées\")"
   ]
  },
  {
   "cell_type": "markdown",
   "metadata": {},
   "source": [
    "## 2. Visualisation des séries temporelles"
   ]
  },
  {
   "cell_type": "code",
   "execution_count": null,
   "metadata": {},
   "outputs": [],
   "source": [
    "fig, axes = plt.subplots(3, 1, figsize=(12, 10), sharex=True)\n\n",
    "# Dépôt BC\n",
    "axes[0].plot(df.index, df['BC_dep'] * 1e6, 'k-', linewidth=2)\n",
    "axes[0].set_ylabel('Dépôt BC (μg/m²)')\n",
    "axes[0].grid(True, alpha=0.3)\n",
    "axes[0].set_title('Séries temporelles')\n\n",
    "# Albédo\n",
    "axes[1].plot(df.index, df['albedo'], 'b-', linewidth=2)\n",
    "axes[1].set_ylabel('Albédo')\n",
    "axes[1].set_ylim(0.3, 0.9)\n",
    "axes[1].grid(True, alpha=0.3)\n\n",
    "# Météo\n",
    "ax2 = axes[2].twinx()\n",
    "axes[2].bar(df.index, df['precipitation'], alpha=0.5, label='Précip.')\n",
    "ax2.plot(df.index, df['temperature'], 'r-', label='Temp.')\n",
    "axes[2].set_ylabel('Précipitation (mm)')\n",
    "ax2.set_ylabel('Température (°C)')\n",
    "axes[2].set_xlabel('Date')\n",
    "axes[2].legend(loc='upper left')\n",
    "ax2.legend(loc='upper right')\n\n",
    "plt.tight_layout()"
   ]
  },
  {
   "cell_type": "markdown",
   "metadata": {},
   "source": [
    "## 3. Analyse de corrélation simple"
   ]
  },
  {
   "cell_type": "code",
   "execution_count": null,
   "metadata": {},
   "outputs": [],
   "source": [
    "# Calculer les corrélations\n",
    "correlations = {}\n\n",
    "# BC vs Albédo\n",
    "corr_bc = calculate_correlation(df['BC_dep'], df['albedo'])\n",
    "print(f\"Corrélation BC-Albédo: {corr_bc['correlation']:.3f} (p={corr_bc['p_value']:.4f})\")\n\n",
    "# PM2.5 vs Albédo\n",
    "corr_pm25 = calculate_correlation(df['PM25_dep'], df['albedo'])\n",
    "print(f\"Corrélation PM2.5-Albédo: {corr_pm25['correlation']:.3f} (p={corr_pm25['p_value']:.4f})\")\n\n",
    "# Météo vs Albédo\n",
    "corr_temp = calculate_correlation(df['temperature'], df['albedo'])\n",
    "print(f\"Corrélation Température-Albédo: {corr_temp['correlation']:.3f} (p={corr_temp['p_value']:.4f})\")\n\n",
    "corr_precip = calculate_correlation(df['precipitation'], df['albedo'])\n",
    "print(f\"Corrélation Précipitation-Albédo: {corr_precip['correlation']:.3f} (p={corr_precip['p_value']:.4f})\")\n\n",
    "# Matrice de corrélation\n",
    "fig = plot_correlation_matrix(df)\n",
    "plt.show()"
   ]
  },
  {
   "cell_type": "markdown",
   "metadata": {},
   "source": [
    "## 4. Analyse avec décalage temporel (lag)"
   ]
  },
  {
   "cell_type": "code",
   "execution_count": null,
   "metadata": {},
   "outputs": [],
   "source": [
    "# Calculer les dépôts cumulatifs\n",
    "df['BC_cumul_7d'] = df['BC_dep'].rolling(window=7, min_periods=1).sum()\n",
    "df['BC_cumul_30d'] = df['BC_dep'].rolling(window=30, min_periods=1).sum()\n\n",
    "# Changement d'albédo\n",
    "df['albedo_change'] = df['albedo'].diff()\n\n",
    "# Analyse de lag\n",
    "lag_results = compute_lag_analysis(\n",
    "    df['BC_cumul_7d'].values,\n",
    "    df['albedo_change'].values,\n",
    "    max_lag=10\n",
    ")\n\n",
    "print(\"Analyse de décalage temporel terminée\")\n",
    "print(lag_results)"
   ]
  },
  {
   "cell_type": "code",
   "execution_count": null,
   "metadata": {},
   "outputs": [],
   "source": [
    "# Visualiser les résultats de lag\n",
    "fig, axes = plt.subplots(1, 2, figsize=(12, 5))\n\n",
    "# Corrélation vs lag\n",
    "axes[0].plot(lag_results['lag'], lag_results['correlation'], 'ko-', linewidth=2)\n",
    "axes[0].axhline(0, color='gray', linestyle='--', alpha=0.5)\n",
    "axes[0].set_xlabel('Décalage (jours)')\n",
    "axes[0].set_ylabel('Corrélation')\n",
    "axes[0].set_title('Corrélation en fonction du décalage temporel')\n",
    "axes[0].grid(True, alpha=0.3)\n\n",
    "# P-value vs lag\n",
    "axes[1].semilogy(lag_results['lag'], lag_results['p_value'], 'ro-', linewidth=2)\n",
    "axes[1].axhline(0.05, color='red', linestyle='--', alpha=0.5, label='p=0.05')\n",
    "axes[1].set_xlabel('Décalage (jours)')\n",
    "axes[1].set_ylabel('P-value')\n",
    "axes[1].set_title('Significativité statistique')\n",
    "axes[1].legend()\n",
    "axes[1].grid(True, alpha=0.3)\n\n",
    "plt.tight_layout()"
   ]
  },
  {
   "cell_type": "markdown",
   "metadata": {},
   "source": [
    "## 5. Régression multiple"
   ]
  },
  {
   "cell_type": "code",
   "execution_count": null,
   "metadata": {},
   "outputs": [],
   "source": [
    "from sklearn.linear_model import LinearRegression\n",
    "from sklearn.preprocessing import StandardScaler\n\n",
    "# Préparer les données\n",
    "# Variables explicatives avec lag de 3 jours\n",
    "lag_days = 3\n",
    "X = pd.DataFrame({\n",
    "    'BC_cumul_7d': df['BC_cumul_7d'].shift(lag_days),\n",
    "    'temperature': df['temperature'].shift(lag_days),\n",
    "    'precipitation': df['precipitation'].shift(lag_days),\n",
    "    'wind_speed': df['wind_speed'].shift(lag_days)\n",
    "}).dropna()\n\n",
    "y = df['albedo'][X.index]\n\n",
    "# Normaliser les variables\n",
    "scaler = StandardScaler()\n",
    "X_scaled = scaler.fit_transform(X)\n\n",
    "# Régression\n",
    "model = LinearRegression()\n",
    "model.fit(X_scaled, y)\n\n",
    "# Coefficients\n",
    "coefficients = pd.DataFrame({\n",
    "    'Variable': X.columns,\n",
    "    'Coefficient': model.coef_,\n",
    "    'Coefficient_norm': model.coef_ * scaler.scale_\n",
    "})\n\n",
    "print(\"Régression multiple:\")\n",
    "print(f\"R² = {model.score(X_scaled, y):.3f}\")\n",
    "print(\"\\nCoefficients:\")\n",
    "print(coefficients)"
   ]
  },
  {
   "cell_type": "code",
   "execution_count": null,
   "metadata": {},
   "outputs": [],
   "source": [
    "# Visualiser l'importance des variables\n",
    "plt.figure(figsize=(8, 6))\n",
    "plt.barh(coefficients['Variable'], np.abs(coefficients['Coefficient']))\n",
    "plt.xlabel('|Coefficient|')\n",
    "plt.title('Importance des variables dans le modèle')\n",
    "plt.grid(True, alpha=0.3)\n",
    "plt.tight_layout()"
   ]
  },
  {
   "cell_type": "markdown",
   "metadata": {},
   "source": [
    "## 6. Analyse des événements extrêmes"
   ]
  },
  {
   "cell_type": "code",
   "execution_count": null,
   "metadata": {},
   "outputs": [],
   "source": [
    "# Identifier les événements de fort dépôt\n",
    "threshold_90 = df['BC_dep'].quantile(0.9)\n",
    "extreme_events = df[df['BC_dep'] > threshold_90].copy()\n\n",
    "print(f\"Seuil 90e percentile: {threshold_90*1e6:.2f} μg/m²\")\n",
    "print(f\"Nombre d'événements extrêmes: {len(extreme_events)}\")\n\n",
    "# Analyser l'impact sur l'albédo\n",
    "impact_window = 7  # jours\n",
    "impacts = []\n\n",
    "for date in extreme_events.index:\n",
    "    # Albédo avant et après\n",
    "    before = df.loc[date - pd.Timedelta(days=3):date - pd.Timedelta(days=1), 'albedo'].mean()\n",
    "    after = df.loc[date + pd.Timedelta(days=1):date + pd.Timedelta(days=impact_window), 'albedo'].mean()\n",
    "    \n",
    "    if not np.isnan(before) and not np.isnan(after):\n",
    "        impacts.append({\n",
    "            'date': date,\n",
    "            'BC_dep': df.loc[date, 'BC_dep'],\n",
    "            'albedo_before': before,\n",
    "            'albedo_after': after,\n",
    "            'albedo_change': after - before\n",
    "        })\n\n",
    "impacts_df = pd.DataFrame(impacts)\n",
    "print(f\"\\nChangement moyen d'albédo après événement extrême: {impacts_df['albedo_change'].mean():.3f}\")\n"
   ]
  },
  {
   "cell_type": "code",
   "execution_count": null,
   "metadata": {},
   "outputs": [],
   "source": [
    "# Visualiser l'impact des événements extrêmes\n",
    "if len(impacts_df) > 0:\n",
    "    fig, axes = plt.subplots(1, 2, figsize=(12, 5))\n",
    "    \n",
    "    # Distribution des changements\n",
    "    axes[0].hist(impacts_df['albedo_change'], bins=15, edgecolor='black')\n",
    "    axes[0].axvline(impacts_df['albedo_change'].mean(), \n",
    "                   color='red', linestyle='--', linewidth=2,\n",
    "                   label=f'Moyenne: {impacts_df[\"albedo_change\"].mean():.3f}')\n",
    "    axes[0].set_xlabel('Changement d\'albédo')\n",
    "    axes[0].set_ylabel('Fréquence')\n",
    "    axes[0].set_title('Distribution des changements après événements extrêmes')\n",
    "    axes[0].legend()\n",
    "    \n",
    "    # Relation dépôt-changement\n",
    "    axes[1].scatter(impacts_df['BC_dep']*1e6, impacts_df['albedo_change'])\n",
    "    axes[1].set_xlabel('Dépôt BC (μg/m²)')\n",
    "    axes[1].set_ylabel('Changement d\'albédo')\n",
    "    axes[1].set_title('Impact des événements extrêmes')\n",
    "    axes[1].grid(True, alpha=0.3)\n",
    "    \n",
    "    # Ligne de tendance\n",
    "    z = np.polyfit(impacts_df['BC_dep'], impacts_df['albedo_change'], 1)\n",
    "    p = np.poly1d(z)\n",
    "    x_line = np.linspace(impacts_df['BC_dep'].min(), impacts_df['BC_dep'].max(), 100)\n",
    "    axes[1].plot(x_line*1e6, p(x_line), 'r--', linewidth=2)\n",
    "    \n",
    "    plt.tight_layout()"
   ]
  },
  {
   "cell_type": "markdown",
   "metadata": {},
   "source": [
    "## 7. Synthèse des résultats"
   ]
  },
  {
   "cell_type": "code",
   "execution_count": null,
   "metadata": {},
   "outputs": [],
   "source": [
    "# Résumé des résultats\n",
    "summary = {\n",
    "    'Période': f\"{df.index[0].date()} à {df.index[-1].date()}\",\n",
    "    'N_jours': len(df),\n",
    "    'BC_dep_total': df['BC_dep'].sum() * 1e3,  # g/m²\n",
    "    'BC_dep_moyen': df['BC_dep'].mean() * 1e6,  # μg/m²\n",
    "    'Albédo_initial': df['albedo'].iloc[:7].mean(),\n",
    "    'Albédo_final': df['albedo'].iloc[-7:].mean(),\n",
    "    'Corr_BC_albedo': corr_bc['correlation'],\n",
    "    'Lag_optimal': lag_results.loc[lag_results['correlation'].abs().idxmax(), 'lag'],\n",
    "    'R2_model': model.score(X_scaled, y),\n",
    "    'N_events_extremes': len(extreme_events),\n",
    "    'Impact_moyen_extreme': impacts_df['albedo_change'].mean() if len(impacts_df) > 0 else np.nan\n",
    "}\n\n",
    "summary_df = pd.DataFrame([summary]).T\n",
    "summary_df.columns = ['Valeur']\n\n",
    "print(\"=== SYNTHÈSE DES RÉSULTATS ===")\n",
    "print(summary_df)\n\n",
    "# Sauvegarder\n",
    "output_dir = Path('../results/correlation_analysis/')\n",
    "output_dir.mkdir(parents=True, exist_ok=True)\n",
    "summary_df.to_csv(output_dir / 'correlation_summary.csv')\n",
    "print(f\"\\nRésultats sauvegardés dans {output_dir}\")\n"
   ]
  }
 ],
 "metadata": {
  "kernelspec": {
   "display_name": "Python 3",
   "language": "python",
   "name": "python3"
  },
  "language_info": {
   "codemirror_mode": {
    "name": "ipython",
    "version": 3
   },
   "file_extension": ".py",
   "mimetype": "text/x-python",
   "name": "python",
   "nbconvert_exporter": "python",
   "pygments_lexer": "ipython3",
   "version": "3.9.0"
  }
 },
 "nbformat": 4,
 "nbformat_minor": 4
}